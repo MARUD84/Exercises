{
 "cells": [
  {
   "attachments": {
    "Capture.PNG": {
     "image/png": "[encoded data removed]"
    }
   },
   "cell_type": "markdown",
   "metadata": {},
   "source": [
    "# 経済センサスー活動調査データ\n",
    "\n",
    "## 概要\n",
    "\n",
    "経済センサス‐活動調査は、全産業分野の経済活動を同一時点で把握するため、日本国内に所在する全ての事業所・企業を対象として、５年ごとに実施されます。\n",
    "\n",
    "産業構成、または地域の人々が働く産業の範囲を理解することは、地域の経済発展に関与する政策決定者にとって重要です。\n",
    "\n",
    "産業構成と地域の経済発展の間の関係について、そして特に、異なる経済結果が多様なまたは専門化された産業構造と関連しているかどうかについて、さまざまな理論が存在します。\n",
    "\n",
    "この分析では、業界全体の雇用の分布を要約することにより、地域の産業構成を理解するために使用できる全国平均指数を調べます。また、全国平均に似ている地域と異なる地域を特定することもできます。\n",
    "\n",
    "![Capture.PNG](attachment:Capture.PNG)\n",
    "\n"
   ]
  },
  {
   "cell_type": "markdown",
   "metadata": {},
   "source": [
    "## Step 01\n",
    "\n",
    "パッケジのインポート\n",
    "\n",
    "関連するモジュールとパッケージをインポートしましょう。"
   ]
  },
  {
   "cell_type": "code",
   "execution_count": 5,
   "metadata": {},
   "outputs": [],
   "source": [
    "#この練習問題に使うパケッジ\n",
    "import pandas as pd\n",
    "import random as rd\n",
    "import matplotlib.pyplot as plt"
   ]
  },
  {
   "cell_type": "markdown",
   "metadata": {},
   "source": [
    "## 解説\n",
    "ライブラリは、ユーザーが手動でコーディングする必要なく特定の機能を実行する、事前にパッケージ化された機能のコレクションです。それを平均、vlookupなどのExcelの関数と考えてください。\n",
    "\n",
    "この分析に使用したライブラリには次のものがあります。\n",
    "\n",
    "- Pandas:データ分析のための最も重要な単一のPythonライブラリ。データセットからのデータの変換と抽出に大きく役立ちます。\n",
    "- Numpy:一般的な数学的計算を実行できるようにするパッケージ\n",
    "- Matplotlib –グラフをプロットするための必須の可視化ライブラリ\n",
    "\n",
    "別名をつけてインポートする場合は、import モジュール名 as つけたい名前を使います pandasにpdという名前をつけることで、以降のプログラムではpdと省略することができます\n"
   ]
  },
  {
   "cell_type": "markdown",
   "metadata": {},
   "source": [
    "## Step 02\n",
    "Pandasは、Pythonを使用するデータサイエンスプロジェクトで使用される非常に重要なライブラリです。\n",
    "\n",
    "経済センサスに関するデータを読み込んでみましょう。"
   ]
  },
  {
   "cell_type": "code",
   "execution_count": 7,
   "metadata": {
    "scrolled": false
   },
   "outputs": [
    {
     "name": "stdout",
     "output_type": "stream",
     "text": [
      "(55248, 12)\n",
      "  tab_code  表章項目 cat01_code        H28_産業分類 cat02_code H28_経営組織 area_code  \\\n",
      "0        3  企業等数         10  A～R全産業（Ｓ公務を除く）          0       総数      1000   \n",
      "1        3  企業等数         10  A～R全産業（Ｓ公務を除く）          0       総数      2000   \n",
      "2        3  企業等数         10  A～R全産業（Ｓ公務を除く）          0       総数      3000   \n",
      "3        3  企業等数         10  A～R全産業（Ｓ公務を除く）          0       総数      4000   \n",
      "4        3  企業等数         10  A～R全産業（Ｓ公務を除く）          0       総数      5000   \n",
      "\n",
      "  H28_地域   time_code    時間軸 unit   value  \n",
      "0    北海道  2016000000  2016年  nan  147198  \n",
      "1    青森県  2016000000  2016年  nan   40961  \n",
      "2    岩手県  2016000000  2016年  nan   39389  \n",
      "3    宮城県  2016000000  2016年  nan   60408  \n",
      "4    秋田県  2016000000  2016年  nan   34757  \n"
     ]
    },
    {
     "data": {
      "text/plain": [
       "tab_code      object\n",
       "表章項目          object\n",
       "cat01_code    object\n",
       "H28_産業分類      object\n",
       "cat02_code    object\n",
       "H28_経営組織      object\n",
       "area_code     object\n",
       "H28_地域        object\n",
       "time_code     object\n",
       "時間軸           object\n",
       "unit          object\n",
       "value         object\n",
       "dtype: object"
      ]
     },
     "execution_count": 7,
     "metadata": {},
     "output_type": "execute_result"
    }
   ],
   "source": [
    "#データを読み込みましょう\n",
    "EconomicSurvey=pd.read_csv('C://Users//Menaka Arudchelvan//Desktop//YCU TDB//New Exercises//経済センサス＿活動データ.csv', engine='python',index_col=None, header=0,dtype=str)\n",
    "print(EconomicSurvey.shape)\n",
    "print(EconomicSurvey.head())\n",
    "EconomicSurvey.dtypes\n"
   ]
  },
  {
   "cell_type": "markdown",
   "metadata": {},
   "source": [
    "## 解説　02\n",
    "- Pandasのread_csvヘッダーを使用して、データのどの行をヘッダーと見なすかを指定します。たとえば、ヘッダーは、以下に示すデータセットの最初の行にすでに存在しています（太字の行に注意してください）\n",
    "    - この場合、header = 0を使用するか、ヘッダー引数を使用しないかのいずれかである必要があります。\n",
    "    - header = 1は、データセットの2行目をヘッダーと見なすことを意味します。\n",
    "    - csvファイルにヘッダーがない場合は、読み取り中にheader = Noneに設定する必要があります。次に、パンダは自動生成された整数値をheader.namesとして使用します\n",
    "    - 列名をデータフレームに明示的に指定する場合は、names属性を使用します。すべての列名はリスト内で言及する必要があります。 df=pd.read_csv(\"Path\", names={”カラム名1”、”カラム名２”、”カラム名３”、”カラム名4”））\n",
    "\n",
    "- df.head（）は、データセットの最初の数行を示し、上記の出力が表示されます。これは通常、データセットが適切に読み込まれることを確認するために行います。\n",
    "\n",
    "- shapeは、配列の次元数を示すタプルです。したがって、Y.shape [0]のインデックス値は0なので、配列の最初の次元に沿って作業しています。\n",
    "\n",
    "- データ型dtypeを確認するには、df.dtypeを使用します。\n"
   ]
  },
  {
   "cell_type": "markdown",
   "metadata": {},
   "source": [
    "## Step 03\n",
    "\n",
    "分析の主要な変数には、集計年、地域名、業界情報、雇用が含まれます。\n",
    "\n",
    "他のすべての無関係な行と列を削除しましょう。"
   ]
  },
  {
   "cell_type": "code",
   "execution_count": 8,
   "metadata": {},
   "outputs": [
    {
     "name": "stdout",
     "output_type": "stream",
     "text": [
      "['企業等数' '事業所数' '従業者数' '売上（収入）金額・経常収益' '費用総額・経常費用' '費用\\u3000売上原価'\n",
      " '費用\\u3000販売費及び一般管理費' '主な費用項目\\u3000給与総額' '主な費用項目\\u3000福利厚生費'\n",
      " '主な費用項目\\u3000動産・不動産賃借料' '主な費用項目\\u3000減価償却費' '主な費用項目\\u3000租税公課'\n",
      " '主な費用項目\\u3000外注費' '主な費用項目\\u3000支払利息等' '付加価値額' '設備投資額\\u3000有形固定資産（土地を除く）'\n",
      " '設備投資額\\u3000無形固定資産（ソフトウェアのみ）']\n",
      "['A～R全産業（Ｓ公務を除く）' 'A～B農林漁業' 'C～R非農林漁業（Ｓ公務を除く）' 'C鉱業，採石業，砂利採取業' 'D建設業'\n",
      " 'E製造業' 'F電気・ガス・熱供給・水道業' 'G情報通信業' 'H運輸業，郵便業' 'I卸売業，小売業' 'J金融業，保険業'\n",
      " 'K不動産業，物品賃貸業' 'L学術研究，専門・技術サービス業' 'M宿泊業，飲食サービス業' 'N生活関連サービス業，娯楽業'\n",
      " 'O教育，学習支援業' 'P医療，福祉' 'Q複合サービス事業' 'Rサービス業（他に分類されないもの）']\n",
      "['総数' '会社企業' '会社以外の法人']\n",
      "['北海道' '青森県' '岩手県' '宮城県' '秋田県' '山形県' '福島県' '茨城県' '栃木県' '群馬県' '埼玉県' '千葉県'\n",
      " '東京都' '神奈川県' '新潟県' '富山県' '石川県' '福井県' '山梨県' '長野県' '岐阜県' '静岡県' '愛知県' '三重県'\n",
      " '滋賀県' '京都府' '大阪府' '兵庫県' '奈良県' '和歌山県' '鳥取県' '島根県' '岡山県' '広島県' '山口県' '徳島県'\n",
      " '香川県' '愛媛県' '高知県' '福岡県' '佐賀県' '長崎県' '熊本県' '大分県' '宮崎県' '鹿児島県' '沖縄県'\n",
      " '札幌大都市圏' '仙台大都市圏' '関東大都市圏' '新潟大都市圏' '静岡・浜松大都市圏' '中京大都市圏' '近畿大都市圏'\n",
      " '岡山大都市圏' '広島大都市圏' '北九州・福岡大都市圏' '熊本大都市圏' '宇都宮都市圏' '松山都市圏' '鹿児島都市圏']\n",
      "(799, 12)\n",
      "['従業者数']\n",
      "['A～B農林漁業' 'C鉱業，採石業，砂利採取業' 'D建設業' 'E製造業' 'F電気・ガス・熱供給・水道業' 'G情報通信業'\n",
      " 'H運輸業，郵便業' 'I卸売業，小売業' 'J金融業，保険業' 'K不動産業，物品賃貸業' 'L学術研究，専門・技術サービス業'\n",
      " 'M宿泊業，飲食サービス業' 'N生活関連サービス業，娯楽業' 'O教育，学習支援業' 'P医療，福祉' 'Q複合サービス事業'\n",
      " 'Rサービス業（他に分類されないもの）']\n",
      "['総数']\n",
      "['北海道' '青森県' '岩手県' '宮城県' '秋田県' '山形県' '福島県' '茨城県' '栃木県' '群馬県' '埼玉県' '千葉県'\n",
      " '東京都' '神奈川県' '新潟県' '富山県' '石川県' '福井県' '山梨県' '長野県' '岐阜県' '静岡県' '愛知県' '三重県'\n",
      " '滋賀県' '京都府' '大阪府' '兵庫県' '奈良県' '和歌山県' '鳥取県' '島根県' '岡山県' '広島県' '山口県' '徳島県'\n",
      " '香川県' '愛媛県' '高知県' '福岡県' '佐賀県' '長崎県' '熊本県' '大分県' '宮崎県' '鹿児島県' '沖縄県']\n"
     ]
    },
    {
     "name": "stderr",
     "output_type": "stream",
     "text": [
      "C:\\ProgramData\\Anaconda3\\lib\\site-packages\\ipykernel_launcher.py:25: SettingWithCopyWarning: \n",
      "A value is trying to be set on a copy of a slice from a DataFrame.\n",
      "Try using .loc[row_indexer,col_indexer] = value instead\n",
      "\n",
      "See the caveats in the documentation: http://pandas.pydata.org/pandas-docs/stable/indexing.html#indexing-view-versus-copy\n"
     ]
    },
    {
     "data": {
      "text/html": [
       "<div>\n",
       "<style scoped>\n",
       "    .dataframe tbody tr th:only-of-type {\n",
       "        vertical-align: middle;\n",
       "    }\n",
       "\n",
       "    .dataframe tbody tr th {\n",
       "        vertical-align: top;\n",
       "    }\n",
       "\n",
       "    .dataframe thead th {\n",
       "        text-align: right;\n",
       "    }\n",
       "</style>\n",
       "<table border=\"1\" class=\"dataframe\">\n",
       "  <thead>\n",
       "    <tr style=\"text-align: right;\">\n",
       "      <th></th>\n",
       "      <th>tab_code</th>\n",
       "      <th>表章項目</th>\n",
       "      <th>cat01_code</th>\n",
       "      <th>H28_産業分類</th>\n",
       "      <th>cat02_code</th>\n",
       "      <th>H28_経営組織</th>\n",
       "      <th>area_code</th>\n",
       "      <th>H28_地域</th>\n",
       "      <th>time_code</th>\n",
       "      <th>時間軸</th>\n",
       "      <th>unit</th>\n",
       "      <th>value</th>\n",
       "    </tr>\n",
       "  </thead>\n",
       "  <tbody>\n",
       "    <tr>\n",
       "      <th>6999</th>\n",
       "      <td>812</td>\n",
       "      <td>従業者数</td>\n",
       "      <td>20</td>\n",
       "      <td>A～B農林漁業</td>\n",
       "      <td>0</td>\n",
       "      <td>総数</td>\n",
       "      <td>1000</td>\n",
       "      <td>北海道</td>\n",
       "      <td>2016000000</td>\n",
       "      <td>2016年</td>\n",
       "      <td>人</td>\n",
       "      <td>37645</td>\n",
       "    </tr>\n",
       "    <tr>\n",
       "      <th>7000</th>\n",
       "      <td>812</td>\n",
       "      <td>従業者数</td>\n",
       "      <td>20</td>\n",
       "      <td>A～B農林漁業</td>\n",
       "      <td>0</td>\n",
       "      <td>総数</td>\n",
       "      <td>2000</td>\n",
       "      <td>青森県</td>\n",
       "      <td>2016000000</td>\n",
       "      <td>2016年</td>\n",
       "      <td>人</td>\n",
       "      <td>9671</td>\n",
       "    </tr>\n",
       "    <tr>\n",
       "      <th>7001</th>\n",
       "      <td>812</td>\n",
       "      <td>従業者数</td>\n",
       "      <td>20</td>\n",
       "      <td>A～B農林漁業</td>\n",
       "      <td>0</td>\n",
       "      <td>総数</td>\n",
       "      <td>3000</td>\n",
       "      <td>岩手県</td>\n",
       "      <td>2016000000</td>\n",
       "      <td>2016年</td>\n",
       "      <td>人</td>\n",
       "      <td>9194</td>\n",
       "    </tr>\n",
       "    <tr>\n",
       "      <th>7002</th>\n",
       "      <td>812</td>\n",
       "      <td>従業者数</td>\n",
       "      <td>20</td>\n",
       "      <td>A～B農林漁業</td>\n",
       "      <td>0</td>\n",
       "      <td>総数</td>\n",
       "      <td>4000</td>\n",
       "      <td>宮城県</td>\n",
       "      <td>2016000000</td>\n",
       "      <td>2016年</td>\n",
       "      <td>人</td>\n",
       "      <td>7045</td>\n",
       "    </tr>\n",
       "    <tr>\n",
       "      <th>7003</th>\n",
       "      <td>812</td>\n",
       "      <td>従業者数</td>\n",
       "      <td>20</td>\n",
       "      <td>A～B農林漁業</td>\n",
       "      <td>0</td>\n",
       "      <td>総数</td>\n",
       "      <td>5000</td>\n",
       "      <td>秋田県</td>\n",
       "      <td>2016000000</td>\n",
       "      <td>2016年</td>\n",
       "      <td>人</td>\n",
       "      <td>7806</td>\n",
       "    </tr>\n",
       "  </tbody>\n",
       "</table>\n",
       "</div>"
      ],
      "text/plain": [
       "     tab_code  表章項目 cat01_code H28_産業分類 cat02_code H28_経営組織 area_code H28_地域  \\\n",
       "6999      812  従業者数         20  A～B農林漁業          0       総数      1000    北海道   \n",
       "7000      812  従業者数         20  A～B農林漁業          0       総数      2000    青森県   \n",
       "7001      812  従業者数         20  A～B農林漁業          0       総数      3000    岩手県   \n",
       "7002      812  従業者数         20  A～B農林漁業          0       総数      4000    宮城県   \n",
       "7003      812  従業者数         20  A～B農林漁業          0       総数      5000    秋田県   \n",
       "\n",
       "       time_code    時間軸 unit  value  \n",
       "6999  2016000000  2016年    人  37645  \n",
       "7000  2016000000  2016年    人   9671  \n",
       "7001  2016000000  2016年    人   9194  \n",
       "7002  2016000000  2016年    人   7045  \n",
       "7003  2016000000  2016年    人   7806  "
      ]
     },
     "execution_count": 8,
     "metadata": {},
     "output_type": "execute_result"
    }
   ],
   "source": [
    "#列に含まれる変数を確認しましょう。\n",
    "print(EconomicSurvey.表章項目.unique())\n",
    "print(EconomicSurvey.H28_産業分類.unique())\n",
    "print(EconomicSurvey.H28_経営組織.unique())\n",
    "print(EconomicSurvey.H28_地域.unique())\n",
    "\n",
    "#要な変数は\n",
    "#　表章項目＝'従業者数'\n",
    "#　H28_産業分類 は「A～R全産業（Ｓ公務を除く）]と [C～R非農林漁業（Ｓ公務を除く）」以外すべての変数\n",
    "#　H28_経営組織='総数'\n",
    "#　H28_地域都市圏以外な地域\n",
    "c1 = [\"A～R全産業（Ｓ公務を除く）\",  \"C～R非農林漁業（Ｓ公務を除く）\"]   \n",
    "EconomicSurvey1=EconomicSurvey[(EconomicSurvey[\"表章項目\"]=='従業者数')&\n",
    "                               (~EconomicSurvey['H28_産業分類'].isin(c1))&\n",
    "                               ((EconomicSurvey[\"H28_経営組織\"]=='総数'))&\n",
    "                              ((EconomicSurvey[\"H28_地域\"].str.contains(\"都市圏\") == False))]\n",
    "print(EconomicSurvey1.shape)\n",
    "\n",
    "print(EconomicSurvey1.表章項目.unique())\n",
    "print(EconomicSurvey1.H28_産業分類.unique())\n",
    "print(EconomicSurvey1.H28_経営組織.unique())\n",
    "print(EconomicSurvey1.H28_地域.unique())\n",
    "\n",
    "#データ型を整数に変更して計算を実行できる\n",
    "EconomicSurvey1[\"value\"]=EconomicSurvey1.value.astype(float).astype(int)\n",
    "EconomicSurvey1.head()"
   ]
  },
  {
   "cell_type": "markdown",
   "metadata": {},
   "source": [
    "## 解説　\n",
    "\n",
    "- unique()は、ユニークな要素の値のリストを返す。list型（Pythonの組み込み型）ではなく一次元のNumPy配列ndarray型\n",
    "\n",
    "- pandas.DataFrameの列の値に対する条件に応じて行を抽出するにはquery()メソッドを使う。比較演算子や文字列メソッドを使った条件指定、複数条件の組み合わせなどをかなり簡潔に記述できて便利。https://note.nkmk.me/python-pandas-query/\n",
    "    - isin()は列の要素が引数に渡したリストの要素に含まれているかをbool値（True, False）で返すメソッド。これを利用して、ある列の要素が特定の値に一致する行のみを抽出できる。\n",
    "    - 文字列が完全一致する条件は==やinで指定できるが、部分一致する条件は文字列メソッドstr.xxx()を使う。\n",
    "        - str.contains(): 特定の文字列を含む\n",
    "        - str.endswith(): 特定の文字列で終わる\n",
    "        - str.startswith(): 特定の文字列で始まる\n",
    "        - str.match(): 正規表現のパターンに一致する\n"
   ]
  },
  {
   "cell_type": "markdown",
   "metadata": {},
   "source": [
    "## Step 04\n",
    "\n",
    "国と地域の業界シェアを計算しましょう"
   ]
  },
  {
   "cell_type": "code",
   "execution_count": 9,
   "metadata": {
    "scrolled": true
   },
   "outputs": [
    {
     "name": "stderr",
     "output_type": "stream",
     "text": [
      "C:\\ProgramData\\Anaconda3\\lib\\site-packages\\ipykernel_launcher.py:3: SettingWithCopyWarning: \n",
      "A value is trying to be set on a copy of a slice from a DataFrame.\n",
      "Try using .loc[row_indexer,col_indexer] = value instead\n",
      "\n",
      "See the caveats in the documentation: http://pandas.pydata.org/pandas-docs/stable/indexing.html#indexing-view-versus-copy\n",
      "  This is separate from the ipykernel package so we can avoid doing imports until\n",
      "C:\\ProgramData\\Anaconda3\\lib\\site-packages\\ipykernel_launcher.py:4: SettingWithCopyWarning: \n",
      "A value is trying to be set on a copy of a slice from a DataFrame.\n",
      "Try using .loc[row_indexer,col_indexer] = value instead\n",
      "\n",
      "See the caveats in the documentation: http://pandas.pydata.org/pandas-docs/stable/indexing.html#indexing-view-versus-copy\n",
      "  after removing the cwd from sys.path.\n",
      "C:\\ProgramData\\Anaconda3\\lib\\site-packages\\ipykernel_launcher.py:5: SettingWithCopyWarning: \n",
      "A value is trying to be set on a copy of a slice from a DataFrame.\n",
      "Try using .loc[row_indexer,col_indexer] = value instead\n",
      "\n",
      "See the caveats in the documentation: http://pandas.pydata.org/pandas-docs/stable/indexing.html#indexing-view-versus-copy\n",
      "  \"\"\"\n",
      "C:\\ProgramData\\Anaconda3\\lib\\site-packages\\ipykernel_launcher.py:7: SettingWithCopyWarning: \n",
      "A value is trying to be set on a copy of a slice from a DataFrame.\n",
      "Try using .loc[row_indexer,col_indexer] = value instead\n",
      "\n",
      "See the caveats in the documentation: http://pandas.pydata.org/pandas-docs/stable/indexing.html#indexing-view-versus-copy\n",
      "  import sys\n",
      "C:\\ProgramData\\Anaconda3\\lib\\site-packages\\ipykernel_launcher.py:8: SettingWithCopyWarning: \n",
      "A value is trying to be set on a copy of a slice from a DataFrame.\n",
      "Try using .loc[row_indexer,col_indexer] = value instead\n",
      "\n",
      "See the caveats in the documentation: http://pandas.pydata.org/pandas-docs/stable/indexing.html#indexing-view-versus-copy\n",
      "  \n"
     ]
    },
    {
     "data": {
      "text/plain": [
       "array(['2016年'], dtype=object)"
      ]
     },
     "execution_count": 9,
     "metadata": {},
     "output_type": "execute_result"
    }
   ],
   "source": [
    "#国と地域の業界シェアの計算\n",
    "EconomicSurvey2=EconomicSurvey1[[\"cat01_code\", \"H28_産業分類\", \"area_code\", \"H28_地域\", \"時間軸\", \"value\"]]\n",
    "EconomicSurvey2['National_emp_by_ind'] = EconomicSurvey2.groupby([\"cat01_code\", \"H28_産業分類\", \"時間軸\"])[\"value\"].transform(lambda x:  x.sum())\n",
    "EconomicSurvey2['National_total_emp'] = EconomicSurvey2.groupby([\"時間軸\"])[\"value\"].transform(lambda x:  x.sum())\n",
    "EconomicSurvey2['Regional_total_emp'] = EconomicSurvey2.groupby([\"H28_地域\",\"時間軸\"])[\"value\"].transform(lambda x:  x.sum())\n",
    "\n",
    "EconomicSurvey2[\"Regional_Share\"]=EconomicSurvey2[\"value\"]/EconomicSurvey2[\"Regional_total_emp\"]*100\n",
    "EconomicSurvey2[\"National_Share\"]=EconomicSurvey2[\"National_emp_by_ind\"]/EconomicSurvey2[\"National_total_emp\"]*100\n",
    "EconomicSurvey2.head()\n",
    "\n",
    "\n",
    "EconomicSurvey2.時間軸.unique()"
   ]
  },
  {
   "cell_type": "markdown",
   "metadata": {},
   "source": [
    "## 解説\n",
    "\n",
    "- groupby関数はデータをある列データなどを基準にグルーピングして処理を行うために使います。例えば、事業部ごとの売上や、年代別での成績などを算出する場合に使うことができます。 https://deepage.net/features/pandas-groupby.html\n",
    "    - groupby関数を適用して返されるオブジェクトはGroupByオブジェクトと呼ばれ、それ単体では何もできませんがこれに他の関数を適用させることでグループごとに処理を実行させることが可能になります。\n",
    "    - 代表的な統計量を計算するために以下のメソッドが用意されています\n",
    "        - 最大値を返す… max()\n",
    "        - 最小値を返す… min()\n",
    "        - 計値を返す… sum()\n",
    "        - 値を返す… mean()\n"
   ]
  },
  {
   "cell_type": "markdown",
   "metadata": {},
   "source": [
    "## Step 05\n",
    "\n",
    "全国平均指数を計算しましょう。"
   ]
  },
  {
   "cell_type": "code",
   "execution_count": 10,
   "metadata": {},
   "outputs": [
    {
     "name": "stdout",
     "output_type": "stream",
     "text": [
      "  area_code H28_地域    時間軸  Regional_index\n",
      "0     27000    大阪府  2016年        3.152241\n",
      "1     27000    大阪府  2016年        3.152241\n",
      "2     27000    大阪府  2016年        3.152241\n",
      "3     27000    大阪府  2016年        3.152241\n",
      "4     27000    大阪府  2016年        3.152241\n",
      "  area_code H28_地域    時間軸  Regional_index\n",
      "0     27000    大阪府  2016年        3.152241\n",
      "1      9000    栃木県  2016年        3.559403\n",
      "2     17000    石川県  2016年        3.823430\n",
      "3     14000   神奈川県  2016年        3.998124\n",
      "4     33000    岡山県  2016年        4.197099\n"
     ]
    }
   ],
   "source": [
    "# 業界別の国別および地域別シェアの違いを計算する\n",
    "EconomicSurvey2[\"Sub_index\"]=(((EconomicSurvey2[\"Regional_Share\"]-EconomicSurvey2[\"National_Share\"])**2))/EconomicSurvey2[\"National_Share\"]\n",
    "\n",
    "#すべての業界を合計して、地域のインデックスを取得します\n",
    "EconomicSurvey2['Regional_index'] = EconomicSurvey2.groupby([\"area_code\", \"H28_地域\", \"時間軸\", ])[\"Sub_index\"].transform(lambda x: x.sum())\n",
    "EconomicSurvey3=EconomicSurvey2[[\"area_code\", \"H28_地域\", \"時間軸\", \"Regional_index\"]].reset_index(drop=True)\n",
    "\n",
    "EconomicSurvey3 = EconomicSurvey3.sort_values([\"時間軸\",\"Regional_index\"]).reset_index(drop=True)\n",
    "\n",
    "print(EconomicSurvey3.head())\n",
    "\n",
    "#地域ごとに1行のみ必要なので、重複をドロップ\n",
    "EconomicSurvey4 = EconomicSurvey3.drop_duplicates().reset_index(drop=True)\n",
    "EconomicSurvey4 = EconomicSurvey4.sort_values([\"時間軸\",\"Regional_index\"])\n",
    "print(EconomicSurvey4.head())\n"
   ]
  },
  {
   "cell_type": "code",
   "execution_count": 11,
   "metadata": {},
   "outputs": [
    {
     "data": {
      "text/html": [
       "<div>\n",
       "<style scoped>\n",
       "    .dataframe tbody tr th:only-of-type {\n",
       "        vertical-align: middle;\n",
       "    }\n",
       "\n",
       "    .dataframe tbody tr th {\n",
       "        vertical-align: top;\n",
       "    }\n",
       "\n",
       "    .dataframe thead th {\n",
       "        text-align: right;\n",
       "    }\n",
       "</style>\n",
       "<table border=\"1\" class=\"dataframe\">\n",
       "  <thead>\n",
       "    <tr style=\"text-align: right;\">\n",
       "      <th></th>\n",
       "      <th>area_code</th>\n",
       "      <th>H28_地域</th>\n",
       "      <th>時間軸</th>\n",
       "      <th>Regional_index</th>\n",
       "    </tr>\n",
       "  </thead>\n",
       "  <tbody>\n",
       "    <tr>\n",
       "      <th>0</th>\n",
       "      <td>27000</td>\n",
       "      <td>大阪府</td>\n",
       "      <td>2016年</td>\n",
       "      <td>3.152241</td>\n",
       "    </tr>\n",
       "    <tr>\n",
       "      <th>1</th>\n",
       "      <td>9000</td>\n",
       "      <td>栃木県</td>\n",
       "      <td>2016年</td>\n",
       "      <td>3.559403</td>\n",
       "    </tr>\n",
       "    <tr>\n",
       "      <th>2</th>\n",
       "      <td>17000</td>\n",
       "      <td>石川県</td>\n",
       "      <td>2016年</td>\n",
       "      <td>3.823430</td>\n",
       "    </tr>\n",
       "    <tr>\n",
       "      <th>3</th>\n",
       "      <td>14000</td>\n",
       "      <td>神奈川県</td>\n",
       "      <td>2016年</td>\n",
       "      <td>3.998124</td>\n",
       "    </tr>\n",
       "    <tr>\n",
       "      <th>4</th>\n",
       "      <td>33000</td>\n",
       "      <td>岡山県</td>\n",
       "      <td>2016年</td>\n",
       "      <td>4.197099</td>\n",
       "    </tr>\n",
       "    <tr>\n",
       "      <th>5</th>\n",
       "      <td>10000</td>\n",
       "      <td>群馬県</td>\n",
       "      <td>2016年</td>\n",
       "      <td>4.350927</td>\n",
       "    </tr>\n",
       "    <tr>\n",
       "      <th>6</th>\n",
       "      <td>19000</td>\n",
       "      <td>山梨県</td>\n",
       "      <td>2016年</td>\n",
       "      <td>4.544051</td>\n",
       "    </tr>\n",
       "    <tr>\n",
       "      <th>7</th>\n",
       "      <td>38000</td>\n",
       "      <td>愛媛県</td>\n",
       "      <td>2016年</td>\n",
       "      <td>4.581206</td>\n",
       "    </tr>\n",
       "    <tr>\n",
       "      <th>8</th>\n",
       "      <td>24000</td>\n",
       "      <td>三重県</td>\n",
       "      <td>2016年</td>\n",
       "      <td>4.762897</td>\n",
       "    </tr>\n",
       "    <tr>\n",
       "      <th>9</th>\n",
       "      <td>28000</td>\n",
       "      <td>兵庫県</td>\n",
       "      <td>2016年</td>\n",
       "      <td>5.172428</td>\n",
       "    </tr>\n",
       "  </tbody>\n",
       "</table>\n",
       "</div>"
      ],
      "text/plain": [
       "  area_code H28_地域    時間軸  Regional_index\n",
       "0     27000    大阪府  2016年        3.152241\n",
       "1      9000    栃木県  2016年        3.559403\n",
       "2     17000    石川県  2016年        3.823430\n",
       "3     14000   神奈川県  2016年        3.998124\n",
       "4     33000    岡山県  2016年        4.197099\n",
       "5     10000    群馬県  2016年        4.350927\n",
       "6     19000    山梨県  2016年        4.544051\n",
       "7     38000    愛媛県  2016年        4.581206\n",
       "8     24000    三重県  2016年        4.762897\n",
       "9     28000    兵庫県  2016年        5.172428"
      ]
     },
     "execution_count": 11,
     "metadata": {},
     "output_type": "execute_result"
    }
   ],
   "source": [
    "#産業構造が特徴的な10地域\n",
    "産業構造が特徴的な地域=EconomicSurvey4.head(10)\n",
    "産業構造が特徴的な地域"
   ]
  },
  {
   "cell_type": "code",
   "execution_count": 12,
   "metadata": {},
   "outputs": [
    {
     "data": {
      "text/html": [
       "<div>\n",
       "<style scoped>\n",
       "    .dataframe tbody tr th:only-of-type {\n",
       "        vertical-align: middle;\n",
       "    }\n",
       "\n",
       "    .dataframe tbody tr th {\n",
       "        vertical-align: top;\n",
       "    }\n",
       "\n",
       "    .dataframe thead th {\n",
       "        text-align: right;\n",
       "    }\n",
       "</style>\n",
       "<table border=\"1\" class=\"dataframe\">\n",
       "  <thead>\n",
       "    <tr style=\"text-align: right;\">\n",
       "      <th></th>\n",
       "      <th>area_code</th>\n",
       "      <th>H28_地域</th>\n",
       "      <th>時間軸</th>\n",
       "      <th>Regional_index</th>\n",
       "    </tr>\n",
       "  </thead>\n",
       "  <tbody>\n",
       "    <tr>\n",
       "      <th>0</th>\n",
       "      <td>45000</td>\n",
       "      <td>宮崎県</td>\n",
       "      <td>2016年</td>\n",
       "      <td>20.613970</td>\n",
       "    </tr>\n",
       "    <tr>\n",
       "      <th>1</th>\n",
       "      <td>46000</td>\n",
       "      <td>鹿児島県</td>\n",
       "      <td>2016年</td>\n",
       "      <td>19.862207</td>\n",
       "    </tr>\n",
       "    <tr>\n",
       "      <th>2</th>\n",
       "      <td>5000</td>\n",
       "      <td>秋田県</td>\n",
       "      <td>2016年</td>\n",
       "      <td>16.357797</td>\n",
       "    </tr>\n",
       "    <tr>\n",
       "      <th>3</th>\n",
       "      <td>13000</td>\n",
       "      <td>東京都</td>\n",
       "      <td>2016年</td>\n",
       "      <td>15.926613</td>\n",
       "    </tr>\n",
       "    <tr>\n",
       "      <th>4</th>\n",
       "      <td>39000</td>\n",
       "      <td>高知県</td>\n",
       "      <td>2016年</td>\n",
       "      <td>15.855537</td>\n",
       "    </tr>\n",
       "    <tr>\n",
       "      <th>5</th>\n",
       "      <td>42000</td>\n",
       "      <td>長崎県</td>\n",
       "      <td>2016年</td>\n",
       "      <td>14.724578</td>\n",
       "    </tr>\n",
       "    <tr>\n",
       "      <th>6</th>\n",
       "      <td>4000</td>\n",
       "      <td>宮城県</td>\n",
       "      <td>2016年</td>\n",
       "      <td>14.501520</td>\n",
       "    </tr>\n",
       "    <tr>\n",
       "      <th>7</th>\n",
       "      <td>2000</td>\n",
       "      <td>青森県</td>\n",
       "      <td>2016年</td>\n",
       "      <td>13.631862</td>\n",
       "    </tr>\n",
       "    <tr>\n",
       "      <th>8</th>\n",
       "      <td>32000</td>\n",
       "      <td>島根県</td>\n",
       "      <td>2016年</td>\n",
       "      <td>12.840743</td>\n",
       "    </tr>\n",
       "    <tr>\n",
       "      <th>9</th>\n",
       "      <td>47000</td>\n",
       "      <td>沖縄県</td>\n",
       "      <td>2016年</td>\n",
       "      <td>12.808828</td>\n",
       "    </tr>\n",
       "  </tbody>\n",
       "</table>\n",
       "</div>"
      ],
      "text/plain": [
       "  area_code H28_地域    時間軸  Regional_index\n",
       "0     45000    宮崎県  2016年       20.613970\n",
       "1     46000   鹿児島県  2016年       19.862207\n",
       "2      5000    秋田県  2016年       16.357797\n",
       "3     13000    東京都  2016年       15.926613\n",
       "4     39000    高知県  2016年       15.855537\n",
       "5     42000    長崎県  2016年       14.724578\n",
       "6      4000    宮城県  2016年       14.501520\n",
       "7      2000    青森県  2016年       13.631862\n",
       "8     32000    島根県  2016年       12.840743\n",
       "9     47000    沖縄県  2016年       12.808828"
      ]
     },
     "execution_count": 12,
     "metadata": {},
     "output_type": "execute_result"
    }
   ],
   "source": [
    "#全国の産業構造に近い10地域\n",
    "全国の産業構造に近い地域=EconomicSurvey4.tail(10).sort_values([\"時間軸\",\"Regional_index\"], ascending=False).reset_index(drop=True)\n",
    "全国の産業構造に近い地域"
   ]
  },
  {
   "cell_type": "markdown",
   "metadata": {},
   "source": [
    "## 解説\n",
    "\n",
    "- DataFrameのreset_indexメソッドを使えば、DataFrameの行のindexを簡単に振り直すことができます。\n",
    "    - reset_indexの引数に何も指定しなければ、index列が作られて、オリジナルのDataFrameについていたindexが保存されます。\n",
    "    - drop=Trueでindex列を作らない\n",
    "    - reset_indexメソッドにはdrop引数があります。\n",
    "    - この値は「オリジナルのindexを列として保存しておくならFalse、保存しないならTrue」にします。\n",
    "    - デフォルトではFalseになっているので、もしもindex列が不要ならばTrueにしましょう。\n"
   ]
  },
  {
   "cell_type": "markdown",
   "metadata": {},
   "source": [
    "# STEP 06\n",
    "\n",
    "分析結果を地図上に可視化して見ましょう。\n",
    "\n",
    "目的\n",
    "- 分析データの準備：都道府県別の指標\n",
    "    - 分析環境の準備：pandas, japanmapライブラリー\n",
    "- 都道府県別の指標を可視化する\n",
    "    - タの読み込みとカラーマップの設定\n",
    "    - 地図に都道府県別の指標とカラーマップを可視化"
   ]
  },
  {
   "cell_type": "code",
   "execution_count": 38,
   "metadata": {},
   "outputs": [
    {
     "data": {
      "image/png": "[encoded data removed]",
      "text/plain": [
       "<Figure size 432x288 with 1 Axes>"
      ]
     },
     "metadata": {
      "needs_background": "light"
     },
     "output_type": "display_data"
    }
   ],
   "source": [
    "from japanmap import picture\n",
    "from japanmap import get_data, pref_points\n",
    "EconomicSurvey5 = EconomicSurvey4.set_index('H28_地域')\n",
    "EconomicSurvey5=EconomicSurvey5[[\"Regional_index\"]]\n",
    "\n",
    "cmap = plt.get_cmap('Reds')\n",
    "norm = plt.Normalize(vmin=EconomicSurvey5.Regional_index.min(), vmax=EconomicSurvey5.Regional_index.max())\n",
    "fcol = lambda x: '#' + bytes(cmap(norm(x), bytes=True)[:3]).hex()\n",
    "sm = plt.cm.ScalarMappable(cmap=cmap, norm=norm)\n",
    "plt.imshow(picture(EconomicSurvey5.Regional_index.apply(fcol)));\n",
    "\n"
   ]
  },
  {
   "cell_type": "markdown",
   "metadata": {},
   "source": [
    "## 解説\n",
    "\n",
    "\n",
    "- GISソフトウェアでできるはずですが、なかなかしきいが高いで巣ので、都道府県別の結果を日本地図上に表示するライブラリーを使って簡単に可視化する方法を紹介します。\n",
    "- 先ず、Andaconda Terminal を使い、「pip install japanmap==0.0.22」をコピーペーストする必要があります。その後、Jupyterを使って、JapanMapをインポートすることができます。https://libraries.io/pypi/japanmap・https://qiita.com/SaitoTsutomu/items/6d17889ba47357e44131\n",
    "\n",
    "- プロットに簡単に使用できる形式でデータを取得します。set_indexを使用して、都道府県を行名にします.\n",
    "    - set_index()メソッドを使うとpandas.DataFrameの既存の列をインデックスindex（行名、行ラベル）に割り当てることができる。\n",
    "    https://note.nkmk.me/python-pandas-time-series-datetimeindex/\n",
    "\n",
    "- cmapでカラーマップを作成します。 \n",
    "- カラーマップと値を対応させるために、normで指標の値を正規化します。 \n",
    "- fcolは、指標の値を色に変換する関数です。 pictureに、EconomicSurvey5.Regional_index.apply(fcol)を与えることで、指標ごとの色に塗ることができます。"
   ]
  },
  {
   "cell_type": "code",
   "execution_count": null,
   "metadata": {},
   "outputs": [],
   "source": []
  },
  {
   "cell_type": "code",
   "execution_count": null,
   "metadata": {},
   "outputs": [],
   "source": []
  },
  {
   "cell_type": "code",
   "execution_count": null,
   "metadata": {},
   "outputs": [],
   "source": []
  },
  {
   "cell_type": "code",
   "execution_count": null,
   "metadata": {},
   "outputs": [],
   "source": []
  },
  {
   "cell_type": "code",
   "execution_count": null,
   "metadata": {},
   "outputs": [],
   "source": []
  }
 ],
 "metadata": {
  "kernelspec": {
   "display_name": "Python 3",
   "language": "python",
   "name": "python3"
  },
  "language_info": {
   "codemirror_mode": {
    "name": "ipython",
    "version": 3
   },
   "file_extension": ".py",
   "mimetype": "text/x-python",
   "name": "python",
   "nbconvert_exporter": "python",
   "pygments_lexer": "ipython3",
   "version": "3.7.1"
  }
 },
 "nbformat": 4,
 "nbformat_minor": 2
}
